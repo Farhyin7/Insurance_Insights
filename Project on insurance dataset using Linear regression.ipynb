{
 "cells": [
  {
   "cell_type": "code",
   "execution_count": 1,
   "id": "fbe290c4",
   "metadata": {},
   "outputs": [],
   "source": [
    "import numpy as np\n",
    "import pandas as pd\n",
    "import matplotlib.pyplot as plt\n",
    "import seaborn as sns\n"
   ]
  },
  {
   "cell_type": "code",
   "execution_count": 2,
   "id": "9bc86dc2",
   "metadata": {},
   "outputs": [
    {
     "data": {
      "text/html": [
       "<div>\n",
       "<style scoped>\n",
       "    .dataframe tbody tr th:only-of-type {\n",
       "        vertical-align: middle;\n",
       "    }\n",
       "\n",
       "    .dataframe tbody tr th {\n",
       "        vertical-align: top;\n",
       "    }\n",
       "\n",
       "    .dataframe thead th {\n",
       "        text-align: right;\n",
       "    }\n",
       "</style>\n",
       "<table border=\"1\" class=\"dataframe\">\n",
       "  <thead>\n",
       "    <tr style=\"text-align: right;\">\n",
       "      <th></th>\n",
       "      <th>age</th>\n",
       "      <th>sex</th>\n",
       "      <th>bmi</th>\n",
       "      <th>children</th>\n",
       "      <th>smoker</th>\n",
       "      <th>Claim_Amount</th>\n",
       "      <th>past_consultations</th>\n",
       "      <th>num_of_steps</th>\n",
       "      <th>Hospital_expenditure</th>\n",
       "      <th>NUmber_of_past_hospitalizations</th>\n",
       "      <th>Anual_Salary</th>\n",
       "      <th>region</th>\n",
       "      <th>charges</th>\n",
       "    </tr>\n",
       "  </thead>\n",
       "  <tbody>\n",
       "    <tr>\n",
       "      <th>0</th>\n",
       "      <td>18.0</td>\n",
       "      <td>male</td>\n",
       "      <td>23.21</td>\n",
       "      <td>0.0</td>\n",
       "      <td>no</td>\n",
       "      <td>29087.54313</td>\n",
       "      <td>17.0</td>\n",
       "      <td>715428.0</td>\n",
       "      <td>4720920.992</td>\n",
       "      <td>0.0</td>\n",
       "      <td>55784970.05</td>\n",
       "      <td>southeast</td>\n",
       "      <td>1121.8739</td>\n",
       "    </tr>\n",
       "    <tr>\n",
       "      <th>1</th>\n",
       "      <td>18.0</td>\n",
       "      <td>male</td>\n",
       "      <td>30.14</td>\n",
       "      <td>0.0</td>\n",
       "      <td>no</td>\n",
       "      <td>39053.67437</td>\n",
       "      <td>7.0</td>\n",
       "      <td>699157.0</td>\n",
       "      <td>4329831.676</td>\n",
       "      <td>0.0</td>\n",
       "      <td>13700885.19</td>\n",
       "      <td>southeast</td>\n",
       "      <td>1131.5066</td>\n",
       "    </tr>\n",
       "    <tr>\n",
       "      <th>2</th>\n",
       "      <td>18.0</td>\n",
       "      <td>male</td>\n",
       "      <td>33.33</td>\n",
       "      <td>0.0</td>\n",
       "      <td>no</td>\n",
       "      <td>39023.62759</td>\n",
       "      <td>19.0</td>\n",
       "      <td>702341.0</td>\n",
       "      <td>6884860.774</td>\n",
       "      <td>0.0</td>\n",
       "      <td>73523107.27</td>\n",
       "      <td>southeast</td>\n",
       "      <td>1135.9407</td>\n",
       "    </tr>\n",
       "    <tr>\n",
       "      <th>3</th>\n",
       "      <td>18.0</td>\n",
       "      <td>male</td>\n",
       "      <td>33.66</td>\n",
       "      <td>0.0</td>\n",
       "      <td>no</td>\n",
       "      <td>28185.39332</td>\n",
       "      <td>11.0</td>\n",
       "      <td>700250.0</td>\n",
       "      <td>4274773.550</td>\n",
       "      <td>0.0</td>\n",
       "      <td>75819679.60</td>\n",
       "      <td>southeast</td>\n",
       "      <td>1136.3994</td>\n",
       "    </tr>\n",
       "    <tr>\n",
       "      <th>4</th>\n",
       "      <td>18.0</td>\n",
       "      <td>male</td>\n",
       "      <td>34.10</td>\n",
       "      <td>0.0</td>\n",
       "      <td>no</td>\n",
       "      <td>14697.85941</td>\n",
       "      <td>16.0</td>\n",
       "      <td>711584.0</td>\n",
       "      <td>3787293.921</td>\n",
       "      <td>0.0</td>\n",
       "      <td>23012320.01</td>\n",
       "      <td>southeast</td>\n",
       "      <td>1137.0110</td>\n",
       "    </tr>\n",
       "  </tbody>\n",
       "</table>\n",
       "</div>"
      ],
      "text/plain": [
       "    age   sex    bmi  children smoker  Claim_Amount  past_consultations  \\\n",
       "0  18.0  male  23.21       0.0     no   29087.54313                17.0   \n",
       "1  18.0  male  30.14       0.0     no   39053.67437                 7.0   \n",
       "2  18.0  male  33.33       0.0     no   39023.62759                19.0   \n",
       "3  18.0  male  33.66       0.0     no   28185.39332                11.0   \n",
       "4  18.0  male  34.10       0.0     no   14697.85941                16.0   \n",
       "\n",
       "   num_of_steps  Hospital_expenditure  NUmber_of_past_hospitalizations  \\\n",
       "0      715428.0           4720920.992                              0.0   \n",
       "1      699157.0           4329831.676                              0.0   \n",
       "2      702341.0           6884860.774                              0.0   \n",
       "3      700250.0           4274773.550                              0.0   \n",
       "4      711584.0           3787293.921                              0.0   \n",
       "\n",
       "   Anual_Salary     region    charges  \n",
       "0   55784970.05  southeast  1121.8739  \n",
       "1   13700885.19  southeast  1131.5066  \n",
       "2   73523107.27  southeast  1135.9407  \n",
       "3   75819679.60  southeast  1136.3994  \n",
       "4   23012320.01  southeast  1137.0110  "
      ]
     },
     "execution_count": 2,
     "metadata": {},
     "output_type": "execute_result"
    }
   ],
   "source": [
    "df=pd.read_csv(\"new_insurance_data (1).csv\")\n",
    "df.head()"
   ]
  },
  {
   "cell_type": "markdown",
   "id": "9cfdaf01",
   "metadata": {},
   "source": [
    "Here charges column is target or dependent column"
   ]
  },
  {
   "cell_type": "code",
   "execution_count": 3,
   "id": "d9404603",
   "metadata": {},
   "outputs": [
    {
     "data": {
      "text/plain": [
       "Index(['age', 'sex', 'bmi', 'children', 'smoker', 'Claim_Amount',\n",
       "       'past_consultations', 'num_of_steps', 'Hospital_expenditure',\n",
       "       'NUmber_of_past_hospitalizations', 'Anual_Salary', 'region', 'charges'],\n",
       "      dtype='object')"
      ]
     },
     "execution_count": 3,
     "metadata": {},
     "output_type": "execute_result"
    }
   ],
   "source": [
    "df.columns#list of all colums"
   ]
  },
  {
   "cell_type": "code",
   "execution_count": 4,
   "id": "9e90e900",
   "metadata": {},
   "outputs": [
    {
     "data": {
      "text/plain": [
       "(1338, 13)"
      ]
     },
     "execution_count": 4,
     "metadata": {},
     "output_type": "execute_result"
    }
   ],
   "source": [
    "df.shape"
   ]
  },
  {
   "cell_type": "code",
   "execution_count": 5,
   "id": "80f6d3c0",
   "metadata": {},
   "outputs": [
    {
     "name": "stdout",
     "output_type": "stream",
     "text": [
      "<class 'pandas.core.frame.DataFrame'>\n",
      "RangeIndex: 1338 entries, 0 to 1337\n",
      "Data columns (total 13 columns):\n",
      " #   Column                           Non-Null Count  Dtype  \n",
      "---  ------                           --------------  -----  \n",
      " 0   age                              1329 non-null   float64\n",
      " 1   sex                              1338 non-null   object \n",
      " 2   bmi                              1335 non-null   float64\n",
      " 3   children                         1333 non-null   float64\n",
      " 4   smoker                           1338 non-null   object \n",
      " 5   Claim_Amount                     1324 non-null   float64\n",
      " 6   past_consultations               1332 non-null   float64\n",
      " 7   num_of_steps                     1335 non-null   float64\n",
      " 8   Hospital_expenditure             1334 non-null   float64\n",
      " 9   NUmber_of_past_hospitalizations  1336 non-null   float64\n",
      " 10  Anual_Salary                     1332 non-null   float64\n",
      " 11  region                           1338 non-null   object \n",
      " 12  charges                          1338 non-null   float64\n",
      "dtypes: float64(10), object(3)\n",
      "memory usage: 136.0+ KB\n"
     ]
    }
   ],
   "source": [
    "df.info()#we have 3 colums in which datatype is an object"
   ]
  },
  {
   "cell_type": "markdown",
   "id": "19356510",
   "metadata": {},
   "source": [
    "Missing value Analysis"
   ]
  },
  {
   "cell_type": "code",
   "execution_count": 26,
   "id": "ad2e0a09",
   "metadata": {},
   "outputs": [
    {
     "data": {
      "text/plain": [
       "age                                 0\n",
       "sex                                 0\n",
       "bmi                                 3\n",
       "children                            5\n",
       "smoker                              0\n",
       "Claim_Amount                       14\n",
       "past_consultations                  6\n",
       "num_of_steps                        3\n",
       "Hospital_expenditure                4\n",
       "NUmber_of_past_hospitalizations     2\n",
       "Anual_Salary                        6\n",
       "region                              0\n",
       "charges                             0\n",
       "dtype: int64"
      ]
     },
     "execution_count": 26,
     "metadata": {},
     "output_type": "execute_result"
    }
   ],
   "source": [
    "df.isnull().sum()"
   ]
  },
  {
   "cell_type": "code",
   "execution_count": 25,
   "id": "55a8e0f5",
   "metadata": {},
   "outputs": [
    {
     "data": {
      "text/plain": [
       "<AxesSubplot:>"
      ]
     },
     "execution_count": 25,
     "metadata": {},
     "output_type": "execute_result"
    },
    {
     "data": {
      "image/png": "[encoded data removed]",
      "text/plain": [
       "<Figure size 432x288 with 2 Axes>"
      ]
     },
     "metadata": {
      "needs_background": "light"
     },
     "output_type": "display_data"
    }
   ],
   "source": [
    "#Visualization of null values\n",
    "sns.heatmap(df.isnull(),yticklabels=False,cmap=\"viridis\")"
   ]
  },
  {
   "cell_type": "code",
   "execution_count": 34,
   "id": "2bbeba26",
   "metadata": {},
   "outputs": [
    {
     "data": {
      "text/plain": [
       "['age',\n",
       " 'sex',\n",
       " 'bmi',\n",
       " 'children',\n",
       " 'smoker',\n",
       " 'Claim_Amount',\n",
       " 'past_consultations',\n",
       " 'num_of_steps',\n",
       " 'Hospital_expenditure',\n",
       " 'NUmber_of_past_hospitalizations',\n",
       " 'Anual_Salary',\n",
       " 'region']"
      ]
     },
     "execution_count": 34,
     "metadata": {},
     "output_type": "execute_result"
    }
   ],
   "source": [
    "col_num=list(df.columns)\n",
    "col_num.remove(\"charges\")#since charge is the target column\n",
    "col_num"
   ]
  },
  {
   "cell_type": "code",
   "execution_count": 38,
   "id": "429b98df",
   "metadata": {},
   "outputs": [],
   "source": [
    "#if dtype is object we fill null values with mode else with mean\n",
    "for i in col_num:\n",
    "    if df[i].dtypes==\"object\":\n",
    "        df[i]=df[i].fillna(df[i].mode())\n",
    "    else:\n",
    "        df[i]=df[i].fillna(df[i].mean())"
   ]
  },
  {
   "cell_type": "code",
   "execution_count": 39,
   "id": "c1a85ce0",
   "metadata": {},
   "outputs": [
    {
     "data": {
      "text/plain": [
       "age                                0\n",
       "sex                                0\n",
       "bmi                                0\n",
       "children                           0\n",
       "smoker                             0\n",
       "Claim_Amount                       0\n",
       "past_consultations                 0\n",
       "num_of_steps                       0\n",
       "Hospital_expenditure               0\n",
       "NUmber_of_past_hospitalizations    0\n",
       "Anual_Salary                       0\n",
       "region                             0\n",
       "charges                            0\n",
       "dtype: int64"
      ]
     },
     "execution_count": 39,
     "metadata": {},
     "output_type": "execute_result"
    }
   ],
   "source": [
    "df.isnull().sum()#all null values are removed"
   ]
  },
  {
   "cell_type": "markdown",
   "id": "801d0427",
   "metadata": {},
   "source": [
    "# Categorical value conversion"
   ]
  },
  {
   "cell_type": "code",
   "execution_count": 41,
   "id": "af7767e1",
   "metadata": {},
   "outputs": [
    {
     "data": {
      "text/plain": [
       "0    0\n",
       "1    0\n",
       "2    0\n",
       "3    0\n",
       "4    0\n",
       "Name: sex, dtype: int32"
      ]
     },
     "execution_count": 41,
     "metadata": {},
     "output_type": "execute_result"
    }
   ],
   "source": [
    "#1)sex column has 2 categorical value \n",
    "df[\"sex\"]=np.where(df[\"sex\"]==\"male\",1,0)\n",
    "df[\"sex\"]=df[\"sex\"].astype(int)\n",
    "df[\"sex\"].head()"
   ]
  },
  {
   "cell_type": "code",
   "execution_count": 43,
   "id": "88869ed6",
   "metadata": {},
   "outputs": [
    {
     "data": {
      "text/plain": [
       "0    0\n",
       "1    0\n",
       "2    0\n",
       "3    0\n",
       "4    0\n",
       "Name: smoker, dtype: int32"
      ]
     },
     "execution_count": 43,
     "metadata": {},
     "output_type": "execute_result"
    }
   ],
   "source": [
    "#2)Label Encoding to assign values to different labels\n",
    "from sklearn.preprocessing import LabelEncoder\n",
    "le=LabelEncoder()\n",
    "df[\"smoker\"]=le.fit_transform(df[\"smoker\"])\n",
    "df[\"smoker\"]=df[\"smoker\"].astype(int)\n",
    "df[\"smoker\"].head()"
   ]
  },
  {
   "cell_type": "code",
   "execution_count": 45,
   "id": "5d34ce35",
   "metadata": {},
   "outputs": [],
   "source": [
    "#3)One-hot encoding is an important step for preparing your dataset for use in machine learning. One-hot encoding turns your categorical data into a binary vector representation.\n",
    "#using pd.get_dummies,used mostly in decision tree and SVM algorithm\n",
    "#This means that for each unique value in a column, a new column is created. The values in this column are represented as 1s and 0s, depending on whether the value matches the column header."
   ]
  },
  {
   "cell_type": "code",
   "execution_count": null,
   "id": "5141b54f",
   "metadata": {},
   "outputs": [],
   "source": [
    "region=pd.get_dummies(df[\"region\"],drop_first=False)\n",
    "region"
   ]
  },
  {
   "cell_type": "code",
   "execution_count": 55,
   "id": "54ec9008",
   "metadata": {},
   "outputs": [
    {
     "name": "stdout",
     "output_type": "stream",
     "text": [
      "<class 'pandas.core.frame.DataFrame'>\n",
      "RangeIndex: 1338 entries, 0 to 1337\n",
      "Data columns (total 20 columns):\n",
      " #   Column                           Non-Null Count  Dtype  \n",
      "---  ------                           --------------  -----  \n",
      " 0   age                              1338 non-null   float64\n",
      " 1   sex                              1338 non-null   int32  \n",
      " 2   bmi                              1338 non-null   float64\n",
      " 3   children                         1338 non-null   float64\n",
      " 4   smoker                           1338 non-null   int32  \n",
      " 5   Claim_Amount                     1338 non-null   float64\n",
      " 6   past_consultations               1338 non-null   float64\n",
      " 7   num_of_steps                     1338 non-null   float64\n",
      " 8   Hospital_expenditure             1338 non-null   float64\n",
      " 9   NUmber_of_past_hospitalizations  1338 non-null   float64\n",
      " 10  Anual_Salary                     1338 non-null   float64\n",
      " 11  charges                          1338 non-null   float64\n",
      " 12  northeast                        1338 non-null   uint8  \n",
      " 13  northwest                        1338 non-null   uint8  \n",
      " 14  southeast                        1338 non-null   uint8  \n",
      " 15  southwest                        1338 non-null   uint8  \n",
      " 16  northeast                        1338 non-null   uint8  \n",
      " 17  northwest                        1338 non-null   uint8  \n",
      " 18  southeast                        1338 non-null   uint8  \n",
      " 19  southwest                        1338 non-null   uint8  \n",
      "dtypes: float64(10), int32(2), uint8(8)\n",
      "memory usage: 125.6 KB\n"
     ]
    }
   ],
   "source": [
    "#df.drop(\"region\",axis=1,inplace=False)\n",
    "df=pd.concat([df,region],axis=1)\n",
    "df.info()"
   ]
  },
  {
   "cell_type": "markdown",
   "id": "ac82f6e1",
   "metadata": {},
   "source": [
    "# Data Visualization"
   ]
  },
  {
   "cell_type": "code",
   "execution_count": 56,
   "id": "6889f778",
   "metadata": {},
   "outputs": [
    {
     "name": "stderr",
     "output_type": "stream",
     "text": [
      "C:\\Users\\Farheen Hussain\\anaconda3\\lib\\site-packages\\seaborn\\distributions.py:2619: FutureWarning: `distplot` is a deprecated function and will be removed in a future version. Please adapt your code to use either `displot` (a figure-level function with similar flexibility) or `histplot` (an axes-level function for histograms).\n",
      "  warnings.warn(msg, FutureWarning)\n"
     ]
    },
    {
     "data": {
      "image/png": "[encoded data removed]",
      "text/plain": [
       "<Figure size 432x288 with 1 Axes>"
      ]
     },
     "metadata": {
      "needs_background": "light"
     },
     "output_type": "display_data"
    }
   ],
   "source": [
    "sns.distplot(x=df[\"age\"])#age feature doesnot follow normal distribution\n",
    "plt.xlabel(\"age\")\n",
    "plt.ylabel(\"count\")\n",
    "plt.show()"
   ]
  },
  {
   "cell_type": "code",
   "execution_count": 8,
   "id": "40ba5f5e",
   "metadata": {},
   "outputs": [
    {
     "name": "stderr",
     "output_type": "stream",
     "text": [
      "C:\\Users\\Farheen Hussain\\anaconda3\\lib\\site-packages\\seaborn\\distributions.py:2619: FutureWarning: `distplot` is a deprecated function and will be removed in a future version. Please adapt your code to use either `displot` (a figure-level function with similar flexibility) or `histplot` (an axes-level function for histograms).\n",
      "  warnings.warn(msg, FutureWarning)\n"
     ]
    },
    {
     "data": {
      "image/png": "[encoded data removed]",
      "text/plain": [
       "<Figure size 432x288 with 1 Axes>"
      ]
     },
     "metadata": {
      "needs_background": "light"
     },
     "output_type": "display_data"
    }
   ],
   "source": [
    "sns.distplot(x=df['bmi'])#follows normal distribution\n",
    "plt.xlabel('BMI')\n",
    "plt.ylabel('Count')\n",
    "plt.show()"
   ]
  },
  {
   "cell_type": "code",
   "execution_count": 9,
   "id": "f7e88e11",
   "metadata": {},
   "outputs": [
    {
     "name": "stderr",
     "output_type": "stream",
     "text": [
      "C:\\Users\\Farheen Hussain\\anaconda3\\lib\\site-packages\\seaborn\\distributions.py:2619: FutureWarning: `distplot` is a deprecated function and will be removed in a future version. Please adapt your code to use either `displot` (a figure-level function with similar flexibility) or `histplot` (an axes-level function for histograms).\n",
      "  warnings.warn(msg, FutureWarning)\n"
     ]
    },
    {
     "data": {
      "image/png": "[encoded data removed]",
      "text/plain": [
       "<Figure size 1080x360 with 3 Axes>"
      ]
     },
     "metadata": {
      "needs_background": "light"
     },
     "output_type": "display_data"
    }
   ],
   "source": [
    "plt.subplots(1,3, figsize=(15,5))# 1 row and 3 column\n",
    "plt.subplot(1,3,1)#1st plot\n",
    "sns.countplot(x=df['children'])#for discrete value we have countplot or barplot to visualize\n",
    "plt.xlabel('Number of Children')\n",
    "plt.ylabel('Count')\n",
    "\n",
    "\n",
    "plt.subplot(1,3,2)\n",
    "sns.histplot(x=df['children'])\n",
    "plt.xlabel('Number of Children')\n",
    "plt.ylabel('Count')\n",
    "\n",
    "\n",
    "plt.subplot(1,3,3)\n",
    "sns.distplot(x=df['children'])\n",
    "plt.xlabel('Number of Children')\n",
    "plt.ylabel('Count')\n",
    "\n",
    "plt.subplots_adjust(hspace=0.5, wspace=0.5)\n",
    "plt.show()"
   ]
  },
  {
   "cell_type": "code",
   "execution_count": 72,
   "id": "ecd4e5a9",
   "metadata": {},
   "outputs": [
    {
     "name": "stderr",
     "output_type": "stream",
     "text": [
      "C:\\Users\\Farheen Hussain\\anaconda3\\lib\\site-packages\\seaborn\\_decorators.py:36: FutureWarning: Pass the following variable as a keyword arg: x. From version 0.12, the only valid positional argument will be `data`, and passing other arguments without an explicit keyword will result in an error or misinterpretation.\n",
      "  warnings.warn(\n"
     ]
    },
    {
     "data": {
      "image/png": "[encoded data removed]",
      "text/plain": [
       "<Figure size 432x288 with 1 Axes>"
      ]
     },
     "metadata": {
      "needs_background": "light"
     },
     "output_type": "display_data"
    },
    {
     "name": "stderr",
     "output_type": "stream",
     "text": [
      "C:\\Users\\Farheen Hussain\\anaconda3\\lib\\site-packages\\seaborn\\_decorators.py:36: FutureWarning: Pass the following variable as a keyword arg: x. From version 0.12, the only valid positional argument will be `data`, and passing other arguments without an explicit keyword will result in an error or misinterpretation.\n",
      "  warnings.warn(\n"
     ]
    },
    {
     "data": {
      "image/png": "[encoded data removed]",
      "text/plain": [
       "<Figure size 432x288 with 1 Axes>"
      ]
     },
     "metadata": {
      "needs_background": "light"
     },
     "output_type": "display_data"
    },
    {
     "name": "stderr",
     "output_type": "stream",
     "text": [
      "C:\\Users\\Farheen Hussain\\anaconda3\\lib\\site-packages\\seaborn\\_decorators.py:36: FutureWarning: Pass the following variable as a keyword arg: x. From version 0.12, the only valid positional argument will be `data`, and passing other arguments without an explicit keyword will result in an error or misinterpretation.\n",
      "  warnings.warn(\n"
     ]
    },
    {
     "data": {
      "image/png": "[encoded data removed]",
      "text/plain": [
       "<Figure size 432x288 with 1 Axes>"
      ]
     },
     "metadata": {
      "needs_background": "light"
     },
     "output_type": "display_data"
    },
    {
     "name": "stderr",
     "output_type": "stream",
     "text": [
      "C:\\Users\\Farheen Hussain\\anaconda3\\lib\\site-packages\\seaborn\\_decorators.py:36: FutureWarning: Pass the following variable as a keyword arg: x. From version 0.12, the only valid positional argument will be `data`, and passing other arguments without an explicit keyword will result in an error or misinterpretation.\n",
      "  warnings.warn(\n"
     ]
    },
    {
     "data": {
      "image/png": "[encoded data removed]",
      "text/plain": [
       "<Figure size 432x288 with 1 Axes>"
      ]
     },
     "metadata": {
      "needs_background": "light"
     },
     "output_type": "display_data"
    },
    {
     "name": "stderr",
     "output_type": "stream",
     "text": [
      "C:\\Users\\Farheen Hussain\\anaconda3\\lib\\site-packages\\seaborn\\_decorators.py:36: FutureWarning: Pass the following variable as a keyword arg: x. From version 0.12, the only valid positional argument will be `data`, and passing other arguments without an explicit keyword will result in an error or misinterpretation.\n",
      "  warnings.warn(\n"
     ]
    },
    {
     "data": {
      "image/png": "[encoded data removed]",
      "text/plain": [
       "<Figure size 432x288 with 1 Axes>"
      ]
     },
     "metadata": {
      "needs_background": "light"
     },
     "output_type": "display_data"
    },
    {
     "name": "stderr",
     "output_type": "stream",
     "text": [
      "C:\\Users\\Farheen Hussain\\anaconda3\\lib\\site-packages\\seaborn\\_decorators.py:36: FutureWarning: Pass the following variable as a keyword arg: x. From version 0.12, the only valid positional argument will be `data`, and passing other arguments without an explicit keyword will result in an error or misinterpretation.\n",
      "  warnings.warn(\n"
     ]
    },
    {
     "data": {
      "image/png": "[encoded data removed]",
      "text/plain": [
       "<Figure size 432x288 with 1 Axes>"
      ]
     },
     "metadata": {
      "needs_background": "light"
     },
     "output_type": "display_data"
    },
    {
     "name": "stderr",
     "output_type": "stream",
     "text": [
      "C:\\Users\\Farheen Hussain\\anaconda3\\lib\\site-packages\\seaborn\\_decorators.py:36: FutureWarning: Pass the following variable as a keyword arg: x. From version 0.12, the only valid positional argument will be `data`, and passing other arguments without an explicit keyword will result in an error or misinterpretation.\n",
      "  warnings.warn(\n"
     ]
    },
    {
     "data": {
      "image/png": "[encoded data removed]",
      "text/plain": [
       "<Figure size 432x288 with 1 Axes>"
      ]
     },
     "metadata": {
      "needs_background": "light"
     },
     "output_type": "display_data"
    },
    {
     "name": "stderr",
     "output_type": "stream",
     "text": [
      "C:\\Users\\Farheen Hussain\\anaconda3\\lib\\site-packages\\seaborn\\_decorators.py:36: FutureWarning: Pass the following variable as a keyword arg: x. From version 0.12, the only valid positional argument will be `data`, and passing other arguments without an explicit keyword will result in an error or misinterpretation.\n",
      "  warnings.warn(\n"
     ]
    },
    {
     "data": {
      "image/png": "[encoded data removed]",
      "text/plain": [
       "<Figure size 432x288 with 1 Axes>"
      ]
     },
     "metadata": {
      "needs_background": "light"
     },
     "output_type": "display_data"
    },
    {
     "name": "stderr",
     "output_type": "stream",
     "text": [
      "C:\\Users\\Farheen Hussain\\anaconda3\\lib\\site-packages\\seaborn\\_decorators.py:36: FutureWarning: Pass the following variable as a keyword arg: x. From version 0.12, the only valid positional argument will be `data`, and passing other arguments without an explicit keyword will result in an error or misinterpretation.\n",
      "  warnings.warn(\n"
     ]
    },
    {
     "data": {
      "image/png": "[encoded data removed]",
      "text/plain": [
       "<Figure size 432x288 with 1 Axes>"
      ]
     },
     "metadata": {
      "needs_background": "light"
     },
     "output_type": "display_data"
    }
   ],
   "source": [
    "#5 number summary of all features to identify outliers\n",
    "for i in col_num:\n",
    "    if(df[i].dtypes==\"float64\" or df[i].dtypes==\"int64\"):\n",
    "        sns.boxplot(df[i])\n",
    "        plt.xlabel(\"count\")\n",
    "        plt.ylabel(i)\n",
    "        plt.show()"
   ]
  },
  {
   "cell_type": "markdown",
   "id": "83aa3b4a",
   "metadata": {},
   "source": [
    "# IQR method\n",
    "Now with the IQR method we will be removing the outlier\n",
    "\n",
    "The interquartile range is calculated in much the same way as the range. All you do to find it is subtract the first quartile from the third quartile: IQR = Q3 – Q1. The interquartile range shows how the data is spread about the median\n",
    "\n",
    "(data >= Q1 - 1.5IQR) & (data <= Q3 + 1.5IQR)\n",
    "\n",
    "Where 1.5 is standard range set to check the outliers\n",
    "\n",
    "So with the help of above formula and IQR value we can remove the outliers ,to remove the outliers we have to calculate the values within upper and lower limit\n",
    "\n",
    "IQR=Q3-Q1\n",
    "\n",
    "lower limit=Q1-1.5*IQR\n",
    "\n",
    "upper limit=Q3+1.5*IQR\n",
    "\n",
    "so consider for age column\n",
    "\n",
    "Q1 = data.age.quantile(0.25)\n",
    "\n",
    "Q3 = data.age.quantile(0.75)\n",
    "\n",
    "IQR = Q3 - Q1\n",
    "\n",
    "print(Q1-1.5IQR,Q3+1.5IQR)\n",
    "\n",
    "(9.5 , 69.5)\n",
    "\n",
    "so we'll consider values between (9.5 , 69.5) and rest all values will be outliers.\n",
    "\n",
    "Same follows for all  columns having outliers"
   ]
  },
  {
   "cell_type": "code",
   "execution_count": 74,
   "id": "46bcfed0",
   "metadata": {},
   "outputs": [],
   "source": [
    "#feature having outlier(bmi,past_consultations,Hospital_expenditure,NUmber_of_past_hospitalizations,Annual_Salary)\n",
    "#Removal of outliers\n",
    "Q1 = df.bmi.quantile(0.25)\n",
    "Q3 = df.bmi.quantile(0.75)\n",
    "IQR = Q3-Q1\n",
    "df = df[(df.bmi>=Q1-1.5*IQR) & (df.bmi<= Q3+1.5*IQR)]\n",
    "\n",
    "Q1 = df.past_consultations.quantile(0.25)\n",
    "Q3 = df.past_consultations.quantile(0.75)\n",
    "IQR = Q3-Q1\n",
    "df = df[(df.past_consultations>=Q1-1.5*IQR) & (df.past_consultations<= Q3+1.5*IQR)]\n",
    "\n",
    "Q1 = df.Hospital_expenditure.quantile(0.25)\n",
    "Q3 = df.Hospital_expenditure.quantile(0.75)\n",
    "IQR = Q3-Q1\n",
    "df = df[(df.Hospital_expenditure>=Q1-1.5*IQR) & (df.Hospital_expenditure<= Q3+1.5*IQR)]\n",
    "\n",
    "Q1 = df.NUmber_of_past_hospitalizations.quantile(0.25)\n",
    "Q3 = df.NUmber_of_past_hospitalizations.quantile(0.75)\n",
    "IQR = Q3-Q1\n",
    "df = df[(df.NUmber_of_past_hospitalizations>=Q1-1.5*IQR) & (df.NUmber_of_past_hospitalizations<= Q3+1.5*IQR)]\n",
    "\n",
    "Q1 = df.Anual_Salary.quantile(0.25)\n",
    "Q3 = df.Anual_Salary.quantile(0.75)\n",
    "IQR = Q3-Q1\n",
    "df = df[(df.Anual_Salary>=Q1-1.5*IQR) & (df.Anual_Salary<= Q3+1.5*IQR)]\n"
   ]
  },
  {
   "cell_type": "code",
   "execution_count": 75,
   "id": "8bcd6caf",
   "metadata": {},
   "outputs": [
    {
     "data": {
      "text/html": [
       "<div>\n",
       "<style scoped>\n",
       "    .dataframe tbody tr th:only-of-type {\n",
       "        vertical-align: middle;\n",
       "    }\n",
       "\n",
       "    .dataframe tbody tr th {\n",
       "        vertical-align: top;\n",
       "    }\n",
       "\n",
       "    .dataframe thead th {\n",
       "        text-align: right;\n",
       "    }\n",
       "</style>\n",
       "<table border=\"1\" class=\"dataframe\">\n",
       "  <thead>\n",
       "    <tr style=\"text-align: right;\">\n",
       "      <th></th>\n",
       "      <th>age</th>\n",
       "      <th>sex</th>\n",
       "      <th>bmi</th>\n",
       "      <th>children</th>\n",
       "      <th>smoker</th>\n",
       "      <th>Claim_Amount</th>\n",
       "      <th>past_consultations</th>\n",
       "      <th>num_of_steps</th>\n",
       "      <th>Hospital_expenditure</th>\n",
       "      <th>NUmber_of_past_hospitalizations</th>\n",
       "      <th>Anual_Salary</th>\n",
       "      <th>charges</th>\n",
       "      <th>northeast</th>\n",
       "      <th>northwest</th>\n",
       "      <th>southeast</th>\n",
       "      <th>southwest</th>\n",
       "      <th>northeast</th>\n",
       "      <th>northwest</th>\n",
       "      <th>southeast</th>\n",
       "      <th>southwest</th>\n",
       "    </tr>\n",
       "  </thead>\n",
       "  <tbody>\n",
       "    <tr>\n",
       "      <th>age</th>\n",
       "      <td>1.000000</td>\n",
       "      <td>NaN</td>\n",
       "      <td>0.185655</td>\n",
       "      <td>-0.144587</td>\n",
       "      <td>-0.289851</td>\n",
       "      <td>0.076328</td>\n",
       "      <td>0.136426</td>\n",
       "      <td>0.661572</td>\n",
       "      <td>0.131621</td>\n",
       "      <td>NaN</td>\n",
       "      <td>0.424402</td>\n",
       "      <td>0.570182</td>\n",
       "      <td>-0.028533</td>\n",
       "      <td>-0.030257</td>\n",
       "      <td>0.011234</td>\n",
       "      <td>0.047990</td>\n",
       "      <td>-0.028533</td>\n",
       "      <td>-0.030257</td>\n",
       "      <td>0.011234</td>\n",
       "      <td>0.047990</td>\n",
       "    </tr>\n",
       "    <tr>\n",
       "      <th>sex</th>\n",
       "      <td>NaN</td>\n",
       "      <td>NaN</td>\n",
       "      <td>NaN</td>\n",
       "      <td>NaN</td>\n",
       "      <td>NaN</td>\n",
       "      <td>NaN</td>\n",
       "      <td>NaN</td>\n",
       "      <td>NaN</td>\n",
       "      <td>NaN</td>\n",
       "      <td>NaN</td>\n",
       "      <td>NaN</td>\n",
       "      <td>NaN</td>\n",
       "      <td>NaN</td>\n",
       "      <td>NaN</td>\n",
       "      <td>NaN</td>\n",
       "      <td>NaN</td>\n",
       "      <td>NaN</td>\n",
       "      <td>NaN</td>\n",
       "      <td>NaN</td>\n",
       "      <td>NaN</td>\n",
       "    </tr>\n",
       "    <tr>\n",
       "      <th>bmi</th>\n",
       "      <td>0.185655</td>\n",
       "      <td>NaN</td>\n",
       "      <td>1.000000</td>\n",
       "      <td>0.009175</td>\n",
       "      <td>-0.227869</td>\n",
       "      <td>-0.003493</td>\n",
       "      <td>-0.009061</td>\n",
       "      <td>0.042105</td>\n",
       "      <td>0.013566</td>\n",
       "      <td>NaN</td>\n",
       "      <td>0.002150</td>\n",
       "      <td>0.006532</td>\n",
       "      <td>-0.156866</td>\n",
       "      <td>-0.131593</td>\n",
       "      <td>0.253097</td>\n",
       "      <td>0.042508</td>\n",
       "      <td>-0.156866</td>\n",
       "      <td>-0.131593</td>\n",
       "      <td>0.253097</td>\n",
       "      <td>0.042508</td>\n",
       "    </tr>\n",
       "    <tr>\n",
       "      <th>children</th>\n",
       "      <td>-0.144587</td>\n",
       "      <td>NaN</td>\n",
       "      <td>0.009175</td>\n",
       "      <td>1.000000</td>\n",
       "      <td>-0.070566</td>\n",
       "      <td>0.006375</td>\n",
       "      <td>-0.002902</td>\n",
       "      <td>-0.006231</td>\n",
       "      <td>-0.064394</td>\n",
       "      <td>NaN</td>\n",
       "      <td>-0.063567</td>\n",
       "      <td>-0.046717</td>\n",
       "      <td>-0.046026</td>\n",
       "      <td>-0.005463</td>\n",
       "      <td>0.029365</td>\n",
       "      <td>0.022743</td>\n",
       "      <td>-0.046026</td>\n",
       "      <td>-0.005463</td>\n",
       "      <td>0.029365</td>\n",
       "      <td>0.022743</td>\n",
       "    </tr>\n",
       "    <tr>\n",
       "      <th>smoker</th>\n",
       "      <td>-0.289851</td>\n",
       "      <td>NaN</td>\n",
       "      <td>-0.227869</td>\n",
       "      <td>-0.070566</td>\n",
       "      <td>1.000000</td>\n",
       "      <td>0.131893</td>\n",
       "      <td>0.120502</td>\n",
       "      <td>0.347580</td>\n",
       "      <td>0.262903</td>\n",
       "      <td>NaN</td>\n",
       "      <td>0.496946</td>\n",
       "      <td>0.467428</td>\n",
       "      <td>0.051460</td>\n",
       "      <td>-0.026626</td>\n",
       "      <td>0.011347</td>\n",
       "      <td>-0.035419</td>\n",
       "      <td>0.051460</td>\n",
       "      <td>-0.026626</td>\n",
       "      <td>0.011347</td>\n",
       "      <td>-0.035419</td>\n",
       "    </tr>\n",
       "    <tr>\n",
       "      <th>Claim_Amount</th>\n",
       "      <td>0.076328</td>\n",
       "      <td>NaN</td>\n",
       "      <td>-0.003493</td>\n",
       "      <td>0.006375</td>\n",
       "      <td>0.131893</td>\n",
       "      <td>1.000000</td>\n",
       "      <td>0.051717</td>\n",
       "      <td>0.175158</td>\n",
       "      <td>0.033503</td>\n",
       "      <td>NaN</td>\n",
       "      <td>0.143783</td>\n",
       "      <td>0.170001</td>\n",
       "      <td>-0.046294</td>\n",
       "      <td>0.056568</td>\n",
       "      <td>-0.006778</td>\n",
       "      <td>-0.004376</td>\n",
       "      <td>-0.046294</td>\n",
       "      <td>0.056568</td>\n",
       "      <td>-0.006778</td>\n",
       "      <td>-0.004376</td>\n",
       "    </tr>\n",
       "    <tr>\n",
       "      <th>past_consultations</th>\n",
       "      <td>0.136426</td>\n",
       "      <td>NaN</td>\n",
       "      <td>-0.009061</td>\n",
       "      <td>-0.002902</td>\n",
       "      <td>0.120502</td>\n",
       "      <td>0.051717</td>\n",
       "      <td>1.000000</td>\n",
       "      <td>0.248848</td>\n",
       "      <td>0.087314</td>\n",
       "      <td>NaN</td>\n",
       "      <td>0.242713</td>\n",
       "      <td>0.253934</td>\n",
       "      <td>-0.037224</td>\n",
       "      <td>0.001429</td>\n",
       "      <td>0.031158</td>\n",
       "      <td>0.005283</td>\n",
       "      <td>-0.037224</td>\n",
       "      <td>0.001429</td>\n",
       "      <td>0.031158</td>\n",
       "      <td>0.005283</td>\n",
       "    </tr>\n",
       "    <tr>\n",
       "      <th>num_of_steps</th>\n",
       "      <td>0.661572</td>\n",
       "      <td>NaN</td>\n",
       "      <td>0.042105</td>\n",
       "      <td>-0.006231</td>\n",
       "      <td>0.347580</td>\n",
       "      <td>0.175158</td>\n",
       "      <td>0.248848</td>\n",
       "      <td>1.000000</td>\n",
       "      <td>0.320769</td>\n",
       "      <td>NaN</td>\n",
       "      <td>0.826766</td>\n",
       "      <td>0.956343</td>\n",
       "      <td>0.049288</td>\n",
       "      <td>-0.050882</td>\n",
       "      <td>-0.003178</td>\n",
       "      <td>0.005351</td>\n",
       "      <td>0.049288</td>\n",
       "      <td>-0.050882</td>\n",
       "      <td>-0.003178</td>\n",
       "      <td>0.005351</td>\n",
       "    </tr>\n",
       "    <tr>\n",
       "      <th>Hospital_expenditure</th>\n",
       "      <td>0.131621</td>\n",
       "      <td>NaN</td>\n",
       "      <td>0.013566</td>\n",
       "      <td>-0.064394</td>\n",
       "      <td>0.262903</td>\n",
       "      <td>0.033503</td>\n",
       "      <td>0.087314</td>\n",
       "      <td>0.320769</td>\n",
       "      <td>1.000000</td>\n",
       "      <td>NaN</td>\n",
       "      <td>0.361384</td>\n",
       "      <td>0.364286</td>\n",
       "      <td>0.030685</td>\n",
       "      <td>-0.081296</td>\n",
       "      <td>-0.023498</td>\n",
       "      <td>0.074333</td>\n",
       "      <td>0.030685</td>\n",
       "      <td>-0.081296</td>\n",
       "      <td>-0.023498</td>\n",
       "      <td>0.074333</td>\n",
       "    </tr>\n",
       "    <tr>\n",
       "      <th>NUmber_of_past_hospitalizations</th>\n",
       "      <td>NaN</td>\n",
       "      <td>NaN</td>\n",
       "      <td>NaN</td>\n",
       "      <td>NaN</td>\n",
       "      <td>NaN</td>\n",
       "      <td>NaN</td>\n",
       "      <td>NaN</td>\n",
       "      <td>NaN</td>\n",
       "      <td>NaN</td>\n",
       "      <td>NaN</td>\n",
       "      <td>NaN</td>\n",
       "      <td>NaN</td>\n",
       "      <td>NaN</td>\n",
       "      <td>NaN</td>\n",
       "      <td>NaN</td>\n",
       "      <td>NaN</td>\n",
       "      <td>NaN</td>\n",
       "      <td>NaN</td>\n",
       "      <td>NaN</td>\n",
       "      <td>NaN</td>\n",
       "    </tr>\n",
       "    <tr>\n",
       "      <th>Anual_Salary</th>\n",
       "      <td>0.424402</td>\n",
       "      <td>NaN</td>\n",
       "      <td>0.002150</td>\n",
       "      <td>-0.063567</td>\n",
       "      <td>0.496946</td>\n",
       "      <td>0.143783</td>\n",
       "      <td>0.242713</td>\n",
       "      <td>0.826766</td>\n",
       "      <td>0.361384</td>\n",
       "      <td>NaN</td>\n",
       "      <td>1.000000</td>\n",
       "      <td>0.903577</td>\n",
       "      <td>0.042907</td>\n",
       "      <td>-0.028564</td>\n",
       "      <td>-0.002585</td>\n",
       "      <td>-0.011385</td>\n",
       "      <td>0.042907</td>\n",
       "      <td>-0.028564</td>\n",
       "      <td>-0.002585</td>\n",
       "      <td>-0.011385</td>\n",
       "    </tr>\n",
       "    <tr>\n",
       "      <th>charges</th>\n",
       "      <td>0.570182</td>\n",
       "      <td>NaN</td>\n",
       "      <td>0.006532</td>\n",
       "      <td>-0.046717</td>\n",
       "      <td>0.467428</td>\n",
       "      <td>0.170001</td>\n",
       "      <td>0.253934</td>\n",
       "      <td>0.956343</td>\n",
       "      <td>0.364286</td>\n",
       "      <td>NaN</td>\n",
       "      <td>0.903577</td>\n",
       "      <td>1.000000</td>\n",
       "      <td>0.056277</td>\n",
       "      <td>-0.041728</td>\n",
       "      <td>-0.002201</td>\n",
       "      <td>-0.011791</td>\n",
       "      <td>0.056277</td>\n",
       "      <td>-0.041728</td>\n",
       "      <td>-0.002201</td>\n",
       "      <td>-0.011791</td>\n",
       "    </tr>\n",
       "    <tr>\n",
       "      <th>northeast</th>\n",
       "      <td>-0.028533</td>\n",
       "      <td>NaN</td>\n",
       "      <td>-0.156866</td>\n",
       "      <td>-0.046026</td>\n",
       "      <td>0.051460</td>\n",
       "      <td>-0.046294</td>\n",
       "      <td>-0.037224</td>\n",
       "      <td>0.049288</td>\n",
       "      <td>0.030685</td>\n",
       "      <td>NaN</td>\n",
       "      <td>0.042907</td>\n",
       "      <td>0.056277</td>\n",
       "      <td>1.000000</td>\n",
       "      <td>-0.343474</td>\n",
       "      <td>-0.320145</td>\n",
       "      <td>-0.337388</td>\n",
       "      <td>1.000000</td>\n",
       "      <td>-0.343474</td>\n",
       "      <td>-0.320145</td>\n",
       "      <td>-0.337388</td>\n",
       "    </tr>\n",
       "    <tr>\n",
       "      <th>northwest</th>\n",
       "      <td>-0.030257</td>\n",
       "      <td>NaN</td>\n",
       "      <td>-0.131593</td>\n",
       "      <td>-0.005463</td>\n",
       "      <td>-0.026626</td>\n",
       "      <td>0.056568</td>\n",
       "      <td>0.001429</td>\n",
       "      <td>-0.050882</td>\n",
       "      <td>-0.081296</td>\n",
       "      <td>NaN</td>\n",
       "      <td>-0.028564</td>\n",
       "      <td>-0.041728</td>\n",
       "      <td>-0.343474</td>\n",
       "      <td>1.000000</td>\n",
       "      <td>-0.328885</td>\n",
       "      <td>-0.346599</td>\n",
       "      <td>-0.343474</td>\n",
       "      <td>1.000000</td>\n",
       "      <td>-0.328885</td>\n",
       "      <td>-0.346599</td>\n",
       "    </tr>\n",
       "    <tr>\n",
       "      <th>southeast</th>\n",
       "      <td>0.011234</td>\n",
       "      <td>NaN</td>\n",
       "      <td>0.253097</td>\n",
       "      <td>0.029365</td>\n",
       "      <td>0.011347</td>\n",
       "      <td>-0.006778</td>\n",
       "      <td>0.031158</td>\n",
       "      <td>-0.003178</td>\n",
       "      <td>-0.023498</td>\n",
       "      <td>NaN</td>\n",
       "      <td>-0.002585</td>\n",
       "      <td>-0.002201</td>\n",
       "      <td>-0.320145</td>\n",
       "      <td>-0.328885</td>\n",
       "      <td>1.000000</td>\n",
       "      <td>-0.323058</td>\n",
       "      <td>-0.320145</td>\n",
       "      <td>-0.328885</td>\n",
       "      <td>1.000000</td>\n",
       "      <td>-0.323058</td>\n",
       "    </tr>\n",
       "    <tr>\n",
       "      <th>southwest</th>\n",
       "      <td>0.047990</td>\n",
       "      <td>NaN</td>\n",
       "      <td>0.042508</td>\n",
       "      <td>0.022743</td>\n",
       "      <td>-0.035419</td>\n",
       "      <td>-0.004376</td>\n",
       "      <td>0.005283</td>\n",
       "      <td>0.005351</td>\n",
       "      <td>0.074333</td>\n",
       "      <td>NaN</td>\n",
       "      <td>-0.011385</td>\n",
       "      <td>-0.011791</td>\n",
       "      <td>-0.337388</td>\n",
       "      <td>-0.346599</td>\n",
       "      <td>-0.323058</td>\n",
       "      <td>1.000000</td>\n",
       "      <td>-0.337388</td>\n",
       "      <td>-0.346599</td>\n",
       "      <td>-0.323058</td>\n",
       "      <td>1.000000</td>\n",
       "    </tr>\n",
       "    <tr>\n",
       "      <th>northeast</th>\n",
       "      <td>-0.028533</td>\n",
       "      <td>NaN</td>\n",
       "      <td>-0.156866</td>\n",
       "      <td>-0.046026</td>\n",
       "      <td>0.051460</td>\n",
       "      <td>-0.046294</td>\n",
       "      <td>-0.037224</td>\n",
       "      <td>0.049288</td>\n",
       "      <td>0.030685</td>\n",
       "      <td>NaN</td>\n",
       "      <td>0.042907</td>\n",
       "      <td>0.056277</td>\n",
       "      <td>1.000000</td>\n",
       "      <td>-0.343474</td>\n",
       "      <td>-0.320145</td>\n",
       "      <td>-0.337388</td>\n",
       "      <td>1.000000</td>\n",
       "      <td>-0.343474</td>\n",
       "      <td>-0.320145</td>\n",
       "      <td>-0.337388</td>\n",
       "    </tr>\n",
       "    <tr>\n",
       "      <th>northwest</th>\n",
       "      <td>-0.030257</td>\n",
       "      <td>NaN</td>\n",
       "      <td>-0.131593</td>\n",
       "      <td>-0.005463</td>\n",
       "      <td>-0.026626</td>\n",
       "      <td>0.056568</td>\n",
       "      <td>0.001429</td>\n",
       "      <td>-0.050882</td>\n",
       "      <td>-0.081296</td>\n",
       "      <td>NaN</td>\n",
       "      <td>-0.028564</td>\n",
       "      <td>-0.041728</td>\n",
       "      <td>-0.343474</td>\n",
       "      <td>1.000000</td>\n",
       "      <td>-0.328885</td>\n",
       "      <td>-0.346599</td>\n",
       "      <td>-0.343474</td>\n",
       "      <td>1.000000</td>\n",
       "      <td>-0.328885</td>\n",
       "      <td>-0.346599</td>\n",
       "    </tr>\n",
       "    <tr>\n",
       "      <th>southeast</th>\n",
       "      <td>0.011234</td>\n",
       "      <td>NaN</td>\n",
       "      <td>0.253097</td>\n",
       "      <td>0.029365</td>\n",
       "      <td>0.011347</td>\n",
       "      <td>-0.006778</td>\n",
       "      <td>0.031158</td>\n",
       "      <td>-0.003178</td>\n",
       "      <td>-0.023498</td>\n",
       "      <td>NaN</td>\n",
       "      <td>-0.002585</td>\n",
       "      <td>-0.002201</td>\n",
       "      <td>-0.320145</td>\n",
       "      <td>-0.328885</td>\n",
       "      <td>1.000000</td>\n",
       "      <td>-0.323058</td>\n",
       "      <td>-0.320145</td>\n",
       "      <td>-0.328885</td>\n",
       "      <td>1.000000</td>\n",
       "      <td>-0.323058</td>\n",
       "    </tr>\n",
       "    <tr>\n",
       "      <th>southwest</th>\n",
       "      <td>0.047990</td>\n",
       "      <td>NaN</td>\n",
       "      <td>0.042508</td>\n",
       "      <td>0.022743</td>\n",
       "      <td>-0.035419</td>\n",
       "      <td>-0.004376</td>\n",
       "      <td>0.005283</td>\n",
       "      <td>0.005351</td>\n",
       "      <td>0.074333</td>\n",
       "      <td>NaN</td>\n",
       "      <td>-0.011385</td>\n",
       "      <td>-0.011791</td>\n",
       "      <td>-0.337388</td>\n",
       "      <td>-0.346599</td>\n",
       "      <td>-0.323058</td>\n",
       "      <td>1.000000</td>\n",
       "      <td>-0.337388</td>\n",
       "      <td>-0.346599</td>\n",
       "      <td>-0.323058</td>\n",
       "      <td>1.000000</td>\n",
       "    </tr>\n",
       "  </tbody>\n",
       "</table>\n",
       "</div>"
      ],
      "text/plain": [
       "                                      age  sex       bmi  children    smoker  \\\n",
       "age                              1.000000  NaN  0.185655 -0.144587 -0.289851   \n",
       "sex                                   NaN  NaN       NaN       NaN       NaN   \n",
       "bmi                              0.185655  NaN  1.000000  0.009175 -0.227869   \n",
       "children                        -0.144587  NaN  0.009175  1.000000 -0.070566   \n",
       "smoker                          -0.289851  NaN -0.227869 -0.070566  1.000000   \n",
       "Claim_Amount                     0.076328  NaN -0.003493  0.006375  0.131893   \n",
       "past_consultations               0.136426  NaN -0.009061 -0.002902  0.120502   \n",
       "num_of_steps                     0.661572  NaN  0.042105 -0.006231  0.347580   \n",
       "Hospital_expenditure             0.131621  NaN  0.013566 -0.064394  0.262903   \n",
       "NUmber_of_past_hospitalizations       NaN  NaN       NaN       NaN       NaN   \n",
       "Anual_Salary                     0.424402  NaN  0.002150 -0.063567  0.496946   \n",
       "charges                          0.570182  NaN  0.006532 -0.046717  0.467428   \n",
       "northeast                       -0.028533  NaN -0.156866 -0.046026  0.051460   \n",
       "northwest                       -0.030257  NaN -0.131593 -0.005463 -0.026626   \n",
       "southeast                        0.011234  NaN  0.253097  0.029365  0.011347   \n",
       "southwest                        0.047990  NaN  0.042508  0.022743 -0.035419   \n",
       "northeast                       -0.028533  NaN -0.156866 -0.046026  0.051460   \n",
       "northwest                       -0.030257  NaN -0.131593 -0.005463 -0.026626   \n",
       "southeast                        0.011234  NaN  0.253097  0.029365  0.011347   \n",
       "southwest                        0.047990  NaN  0.042508  0.022743 -0.035419   \n",
       "\n",
       "                                 Claim_Amount  past_consultations  \\\n",
       "age                                  0.076328            0.136426   \n",
       "sex                                       NaN                 NaN   \n",
       "bmi                                 -0.003493           -0.009061   \n",
       "children                             0.006375           -0.002902   \n",
       "smoker                               0.131893            0.120502   \n",
       "Claim_Amount                         1.000000            0.051717   \n",
       "past_consultations                   0.051717            1.000000   \n",
       "num_of_steps                         0.175158            0.248848   \n",
       "Hospital_expenditure                 0.033503            0.087314   \n",
       "NUmber_of_past_hospitalizations           NaN                 NaN   \n",
       "Anual_Salary                         0.143783            0.242713   \n",
       "charges                              0.170001            0.253934   \n",
       "northeast                           -0.046294           -0.037224   \n",
       "northwest                            0.056568            0.001429   \n",
       "southeast                           -0.006778            0.031158   \n",
       "southwest                           -0.004376            0.005283   \n",
       "northeast                           -0.046294           -0.037224   \n",
       "northwest                            0.056568            0.001429   \n",
       "southeast                           -0.006778            0.031158   \n",
       "southwest                           -0.004376            0.005283   \n",
       "\n",
       "                                 num_of_steps  Hospital_expenditure  \\\n",
       "age                                  0.661572              0.131621   \n",
       "sex                                       NaN                   NaN   \n",
       "bmi                                  0.042105              0.013566   \n",
       "children                            -0.006231             -0.064394   \n",
       "smoker                               0.347580              0.262903   \n",
       "Claim_Amount                         0.175158              0.033503   \n",
       "past_consultations                   0.248848              0.087314   \n",
       "num_of_steps                         1.000000              0.320769   \n",
       "Hospital_expenditure                 0.320769              1.000000   \n",
       "NUmber_of_past_hospitalizations           NaN                   NaN   \n",
       "Anual_Salary                         0.826766              0.361384   \n",
       "charges                              0.956343              0.364286   \n",
       "northeast                            0.049288              0.030685   \n",
       "northwest                           -0.050882             -0.081296   \n",
       "southeast                           -0.003178             -0.023498   \n",
       "southwest                            0.005351              0.074333   \n",
       "northeast                            0.049288              0.030685   \n",
       "northwest                           -0.050882             -0.081296   \n",
       "southeast                           -0.003178             -0.023498   \n",
       "southwest                            0.005351              0.074333   \n",
       "\n",
       "                                 NUmber_of_past_hospitalizations  \\\n",
       "age                                                          NaN   \n",
       "sex                                                          NaN   \n",
       "bmi                                                          NaN   \n",
       "children                                                     NaN   \n",
       "smoker                                                       NaN   \n",
       "Claim_Amount                                                 NaN   \n",
       "past_consultations                                           NaN   \n",
       "num_of_steps                                                 NaN   \n",
       "Hospital_expenditure                                         NaN   \n",
       "NUmber_of_past_hospitalizations                              NaN   \n",
       "Anual_Salary                                                 NaN   \n",
       "charges                                                      NaN   \n",
       "northeast                                                    NaN   \n",
       "northwest                                                    NaN   \n",
       "southeast                                                    NaN   \n",
       "southwest                                                    NaN   \n",
       "northeast                                                    NaN   \n",
       "northwest                                                    NaN   \n",
       "southeast                                                    NaN   \n",
       "southwest                                                    NaN   \n",
       "\n",
       "                                 Anual_Salary   charges  northeast  northwest  \\\n",
       "age                                  0.424402  0.570182  -0.028533  -0.030257   \n",
       "sex                                       NaN       NaN        NaN        NaN   \n",
       "bmi                                  0.002150  0.006532  -0.156866  -0.131593   \n",
       "children                            -0.063567 -0.046717  -0.046026  -0.005463   \n",
       "smoker                               0.496946  0.467428   0.051460  -0.026626   \n",
       "Claim_Amount                         0.143783  0.170001  -0.046294   0.056568   \n",
       "past_consultations                   0.242713  0.253934  -0.037224   0.001429   \n",
       "num_of_steps                         0.826766  0.956343   0.049288  -0.050882   \n",
       "Hospital_expenditure                 0.361384  0.364286   0.030685  -0.081296   \n",
       "NUmber_of_past_hospitalizations           NaN       NaN        NaN        NaN   \n",
       "Anual_Salary                         1.000000  0.903577   0.042907  -0.028564   \n",
       "charges                              0.903577  1.000000   0.056277  -0.041728   \n",
       "northeast                            0.042907  0.056277   1.000000  -0.343474   \n",
       "northwest                           -0.028564 -0.041728  -0.343474   1.000000   \n",
       "southeast                           -0.002585 -0.002201  -0.320145  -0.328885   \n",
       "southwest                           -0.011385 -0.011791  -0.337388  -0.346599   \n",
       "northeast                            0.042907  0.056277   1.000000  -0.343474   \n",
       "northwest                           -0.028564 -0.041728  -0.343474   1.000000   \n",
       "southeast                           -0.002585 -0.002201  -0.320145  -0.328885   \n",
       "southwest                           -0.011385 -0.011791  -0.337388  -0.346599   \n",
       "\n",
       "                                 southeast  southwest  northeast  northwest  \\\n",
       "age                               0.011234   0.047990  -0.028533  -0.030257   \n",
       "sex                                    NaN        NaN        NaN        NaN   \n",
       "bmi                               0.253097   0.042508  -0.156866  -0.131593   \n",
       "children                          0.029365   0.022743  -0.046026  -0.005463   \n",
       "smoker                            0.011347  -0.035419   0.051460  -0.026626   \n",
       "Claim_Amount                     -0.006778  -0.004376  -0.046294   0.056568   \n",
       "past_consultations                0.031158   0.005283  -0.037224   0.001429   \n",
       "num_of_steps                     -0.003178   0.005351   0.049288  -0.050882   \n",
       "Hospital_expenditure             -0.023498   0.074333   0.030685  -0.081296   \n",
       "NUmber_of_past_hospitalizations        NaN        NaN        NaN        NaN   \n",
       "Anual_Salary                     -0.002585  -0.011385   0.042907  -0.028564   \n",
       "charges                          -0.002201  -0.011791   0.056277  -0.041728   \n",
       "northeast                        -0.320145  -0.337388   1.000000  -0.343474   \n",
       "northwest                        -0.328885  -0.346599  -0.343474   1.000000   \n",
       "southeast                         1.000000  -0.323058  -0.320145  -0.328885   \n",
       "southwest                        -0.323058   1.000000  -0.337388  -0.346599   \n",
       "northeast                        -0.320145  -0.337388   1.000000  -0.343474   \n",
       "northwest                        -0.328885  -0.346599  -0.343474   1.000000   \n",
       "southeast                         1.000000  -0.323058  -0.320145  -0.328885   \n",
       "southwest                        -0.323058   1.000000  -0.337388  -0.346599   \n",
       "\n",
       "                                 southeast  southwest  \n",
       "age                               0.011234   0.047990  \n",
       "sex                                    NaN        NaN  \n",
       "bmi                               0.253097   0.042508  \n",
       "children                          0.029365   0.022743  \n",
       "smoker                            0.011347  -0.035419  \n",
       "Claim_Amount                     -0.006778  -0.004376  \n",
       "past_consultations                0.031158   0.005283  \n",
       "num_of_steps                     -0.003178   0.005351  \n",
       "Hospital_expenditure             -0.023498   0.074333  \n",
       "NUmber_of_past_hospitalizations        NaN        NaN  \n",
       "Anual_Salary                     -0.002585  -0.011385  \n",
       "charges                          -0.002201  -0.011791  \n",
       "northeast                        -0.320145  -0.337388  \n",
       "northwest                        -0.328885  -0.346599  \n",
       "southeast                         1.000000  -0.323058  \n",
       "southwest                        -0.323058   1.000000  \n",
       "northeast                        -0.320145  -0.337388  \n",
       "northwest                        -0.328885  -0.346599  \n",
       "southeast                         1.000000  -0.323058  \n",
       "southwest                        -0.323058   1.000000  "
      ]
     },
     "execution_count": 75,
     "metadata": {},
     "output_type": "execute_result"
    }
   ],
   "source": [
    "df.corr()"
   ]
  },
  {
   "cell_type": "code",
   "execution_count": 88,
   "id": "a3ab2fd7",
   "metadata": {},
   "outputs": [
    {
     "name": "stderr",
     "output_type": "stream",
     "text": [
      "C:\\Users\\Farheen Hussain\\anaconda3\\lib\\site-packages\\statsmodels\\regression\\linear_model.py:1736: RuntimeWarning: invalid value encountered in double_scalars\n",
      "  return 1 - self.ssr/self.centered_tss\n",
      "C:\\Users\\Farheen Hussain\\anaconda3\\lib\\site-packages\\statsmodels\\regression\\linear_model.py:1736: RuntimeWarning: divide by zero encountered in double_scalars\n",
      "  return 1 - self.ssr/self.centered_tss\n",
      "C:\\Users\\Farheen Hussain\\anaconda3\\lib\\site-packages\\statsmodels\\stats\\outliers_influence.py:195: RuntimeWarning: divide by zero encountered in double_scalars\n",
      "  vif = 1. / (1. - r_squared_i)\n"
     ]
    },
    {
     "data": {
      "text/html": [
       "<div>\n",
       "<style scoped>\n",
       "    .dataframe tbody tr th:only-of-type {\n",
       "        vertical-align: middle;\n",
       "    }\n",
       "\n",
       "    .dataframe tbody tr th {\n",
       "        vertical-align: top;\n",
       "    }\n",
       "\n",
       "    .dataframe thead th {\n",
       "        text-align: right;\n",
       "    }\n",
       "</style>\n",
       "<table border=\"1\" class=\"dataframe\">\n",
       "  <thead>\n",
       "    <tr style=\"text-align: right;\">\n",
       "      <th></th>\n",
       "      <th>feature</th>\n",
       "      <th>VIF</th>\n",
       "    </tr>\n",
       "  </thead>\n",
       "  <tbody>\n",
       "    <tr>\n",
       "      <th>0</th>\n",
       "      <td>age</td>\n",
       "      <td>4.566099</td>\n",
       "    </tr>\n",
       "    <tr>\n",
       "      <th>1</th>\n",
       "      <td>sex</td>\n",
       "      <td>NaN</td>\n",
       "    </tr>\n",
       "    <tr>\n",
       "      <th>2</th>\n",
       "      <td>bmi</td>\n",
       "      <td>1.182717</td>\n",
       "    </tr>\n",
       "    <tr>\n",
       "      <th>3</th>\n",
       "      <td>children</td>\n",
       "      <td>1.174156</td>\n",
       "    </tr>\n",
       "    <tr>\n",
       "      <th>4</th>\n",
       "      <td>smoker</td>\n",
       "      <td>3.123209</td>\n",
       "    </tr>\n",
       "    <tr>\n",
       "      <th>5</th>\n",
       "      <td>Claim_Amount</td>\n",
       "      <td>1.046857</td>\n",
       "    </tr>\n",
       "    <tr>\n",
       "      <th>6</th>\n",
       "      <td>past_consultations</td>\n",
       "      <td>1.075631</td>\n",
       "    </tr>\n",
       "    <tr>\n",
       "      <th>7</th>\n",
       "      <td>num_of_steps</td>\n",
       "      <td>6.952728</td>\n",
       "    </tr>\n",
       "    <tr>\n",
       "      <th>8</th>\n",
       "      <td>Hospital_expenditure</td>\n",
       "      <td>1.183445</td>\n",
       "    </tr>\n",
       "    <tr>\n",
       "      <th>9</th>\n",
       "      <td>NUmber_of_past_hospitalizations</td>\n",
       "      <td>0.000000</td>\n",
       "    </tr>\n",
       "    <tr>\n",
       "      <th>10</th>\n",
       "      <td>Anual_Salary</td>\n",
       "      <td>3.869602</td>\n",
       "    </tr>\n",
       "    <tr>\n",
       "      <th>11</th>\n",
       "      <td>northeast</td>\n",
       "      <td>inf</td>\n",
       "    </tr>\n",
       "    <tr>\n",
       "      <th>12</th>\n",
       "      <td>northeast</td>\n",
       "      <td>inf</td>\n",
       "    </tr>\n",
       "    <tr>\n",
       "      <th>13</th>\n",
       "      <td>northwest</td>\n",
       "      <td>inf</td>\n",
       "    </tr>\n",
       "    <tr>\n",
       "      <th>14</th>\n",
       "      <td>northwest</td>\n",
       "      <td>inf</td>\n",
       "    </tr>\n",
       "    <tr>\n",
       "      <th>15</th>\n",
       "      <td>southeast</td>\n",
       "      <td>inf</td>\n",
       "    </tr>\n",
       "    <tr>\n",
       "      <th>16</th>\n",
       "      <td>southeast</td>\n",
       "      <td>inf</td>\n",
       "    </tr>\n",
       "    <tr>\n",
       "      <th>17</th>\n",
       "      <td>southwest</td>\n",
       "      <td>inf</td>\n",
       "    </tr>\n",
       "    <tr>\n",
       "      <th>18</th>\n",
       "      <td>southwest</td>\n",
       "      <td>inf</td>\n",
       "    </tr>\n",
       "    <tr>\n",
       "      <th>19</th>\n",
       "      <td>northeast</td>\n",
       "      <td>inf</td>\n",
       "    </tr>\n",
       "    <tr>\n",
       "      <th>20</th>\n",
       "      <td>northeast</td>\n",
       "      <td>inf</td>\n",
       "    </tr>\n",
       "    <tr>\n",
       "      <th>21</th>\n",
       "      <td>northwest</td>\n",
       "      <td>inf</td>\n",
       "    </tr>\n",
       "    <tr>\n",
       "      <th>22</th>\n",
       "      <td>northwest</td>\n",
       "      <td>inf</td>\n",
       "    </tr>\n",
       "    <tr>\n",
       "      <th>23</th>\n",
       "      <td>southeast</td>\n",
       "      <td>inf</td>\n",
       "    </tr>\n",
       "    <tr>\n",
       "      <th>24</th>\n",
       "      <td>southeast</td>\n",
       "      <td>inf</td>\n",
       "    </tr>\n",
       "    <tr>\n",
       "      <th>25</th>\n",
       "      <td>southwest</td>\n",
       "      <td>inf</td>\n",
       "    </tr>\n",
       "    <tr>\n",
       "      <th>26</th>\n",
       "      <td>southwest</td>\n",
       "      <td>inf</td>\n",
       "    </tr>\n",
       "  </tbody>\n",
       "</table>\n",
       "</div>"
      ],
      "text/plain": [
       "                            feature       VIF\n",
       "0                               age  4.566099\n",
       "1                               sex       NaN\n",
       "2                               bmi  1.182717\n",
       "3                          children  1.174156\n",
       "4                            smoker  3.123209\n",
       "5                      Claim_Amount  1.046857\n",
       "6                past_consultations  1.075631\n",
       "7                      num_of_steps  6.952728\n",
       "8              Hospital_expenditure  1.183445\n",
       "9   NUmber_of_past_hospitalizations  0.000000\n",
       "10                     Anual_Salary  3.869602\n",
       "11                        northeast       inf\n",
       "12                        northeast       inf\n",
       "13                        northwest       inf\n",
       "14                        northwest       inf\n",
       "15                        southeast       inf\n",
       "16                        southeast       inf\n",
       "17                        southwest       inf\n",
       "18                        southwest       inf\n",
       "19                        northeast       inf\n",
       "20                        northeast       inf\n",
       "21                        northwest       inf\n",
       "22                        northwest       inf\n",
       "23                        southeast       inf\n",
       "24                        southeast       inf\n",
       "25                        southwest       inf\n",
       "26                        southwest       inf"
      ]
     },
     "execution_count": 88,
     "metadata": {},
     "output_type": "execute_result"
    }
   ],
   "source": [
    "#removal of multicollinearity\n",
    "from statsmodels.stats.outliers_influence import variance_inflation_factor \n",
    "col_list = []\n",
    "for col in df.columns:\n",
    "    if  (col != 'charges'):\n",
    "        col_list.append(col)\n",
    "    \n",
    "X = df[col_list]\n",
    "vif_data = pd.DataFrame() \n",
    "vif_data[\"feature\"] = X.columns \n",
    "vif_data[\"VIF\"] = [variance_inflation_factor(X.values, i) for i in range(len(X.columns))]  \n",
    "vif_data\n"
   ]
  },
  {
   "cell_type": "code",
   "execution_count": 90,
   "id": "b511ba4e",
   "metadata": {},
   "outputs": [],
   "source": [
    "df=df.drop([\"num_of_steps\"],axis=1)#VIF<=6 else drop that column"
   ]
  },
  {
   "cell_type": "code",
   "execution_count": 91,
   "id": "bb5dc29e",
   "metadata": {},
   "outputs": [
    {
     "name": "stderr",
     "output_type": "stream",
     "text": [
      "C:\\Users\\Farheen Hussain\\anaconda3\\lib\\site-packages\\statsmodels\\regression\\linear_model.py:1736: RuntimeWarning: invalid value encountered in double_scalars\n",
      "  return 1 - self.ssr/self.centered_tss\n",
      "C:\\Users\\Farheen Hussain\\anaconda3\\lib\\site-packages\\statsmodels\\regression\\linear_model.py:1736: RuntimeWarning: divide by zero encountered in double_scalars\n",
      "  return 1 - self.ssr/self.centered_tss\n",
      "C:\\Users\\Farheen Hussain\\anaconda3\\lib\\site-packages\\statsmodels\\stats\\outliers_influence.py:195: RuntimeWarning: divide by zero encountered in double_scalars\n",
      "  vif = 1. / (1. - r_squared_i)\n"
     ]
    },
    {
     "data": {
      "text/html": [
       "<div>\n",
       "<style scoped>\n",
       "    .dataframe tbody tr th:only-of-type {\n",
       "        vertical-align: middle;\n",
       "    }\n",
       "\n",
       "    .dataframe tbody tr th {\n",
       "        vertical-align: top;\n",
       "    }\n",
       "\n",
       "    .dataframe thead th {\n",
       "        text-align: right;\n",
       "    }\n",
       "</style>\n",
       "<table border=\"1\" class=\"dataframe\">\n",
       "  <thead>\n",
       "    <tr style=\"text-align: right;\">\n",
       "      <th></th>\n",
       "      <th>feature</th>\n",
       "      <th>VIF</th>\n",
       "    </tr>\n",
       "  </thead>\n",
       "  <tbody>\n",
       "    <tr>\n",
       "      <th>0</th>\n",
       "      <td>age</td>\n",
       "      <td>2.185868</td>\n",
       "    </tr>\n",
       "    <tr>\n",
       "      <th>1</th>\n",
       "      <td>sex</td>\n",
       "      <td>NaN</td>\n",
       "    </tr>\n",
       "    <tr>\n",
       "      <th>2</th>\n",
       "      <td>bmi</td>\n",
       "      <td>1.182047</td>\n",
       "    </tr>\n",
       "    <tr>\n",
       "      <th>3</th>\n",
       "      <td>children</td>\n",
       "      <td>1.057813</td>\n",
       "    </tr>\n",
       "    <tr>\n",
       "      <th>4</th>\n",
       "      <td>smoker</td>\n",
       "      <td>2.458853</td>\n",
       "    </tr>\n",
       "    <tr>\n",
       "      <th>5</th>\n",
       "      <td>Claim_Amount</td>\n",
       "      <td>1.040968</td>\n",
       "    </tr>\n",
       "    <tr>\n",
       "      <th>6</th>\n",
       "      <td>past_consultations</td>\n",
       "      <td>1.069143</td>\n",
       "    </tr>\n",
       "    <tr>\n",
       "      <th>7</th>\n",
       "      <td>Hospital_expenditure</td>\n",
       "      <td>1.181636</td>\n",
       "    </tr>\n",
       "    <tr>\n",
       "      <th>8</th>\n",
       "      <td>NUmber_of_past_hospitalizations</td>\n",
       "      <td>0.000000</td>\n",
       "    </tr>\n",
       "    <tr>\n",
       "      <th>9</th>\n",
       "      <td>Anual_Salary</td>\n",
       "      <td>2.678595</td>\n",
       "    </tr>\n",
       "    <tr>\n",
       "      <th>10</th>\n",
       "      <td>northeast</td>\n",
       "      <td>inf</td>\n",
       "    </tr>\n",
       "    <tr>\n",
       "      <th>11</th>\n",
       "      <td>northeast</td>\n",
       "      <td>inf</td>\n",
       "    </tr>\n",
       "    <tr>\n",
       "      <th>12</th>\n",
       "      <td>northwest</td>\n",
       "      <td>inf</td>\n",
       "    </tr>\n",
       "    <tr>\n",
       "      <th>13</th>\n",
       "      <td>northwest</td>\n",
       "      <td>inf</td>\n",
       "    </tr>\n",
       "    <tr>\n",
       "      <th>14</th>\n",
       "      <td>southeast</td>\n",
       "      <td>inf</td>\n",
       "    </tr>\n",
       "    <tr>\n",
       "      <th>15</th>\n",
       "      <td>southeast</td>\n",
       "      <td>inf</td>\n",
       "    </tr>\n",
       "    <tr>\n",
       "      <th>16</th>\n",
       "      <td>southwest</td>\n",
       "      <td>inf</td>\n",
       "    </tr>\n",
       "    <tr>\n",
       "      <th>17</th>\n",
       "      <td>southwest</td>\n",
       "      <td>inf</td>\n",
       "    </tr>\n",
       "    <tr>\n",
       "      <th>18</th>\n",
       "      <td>northeast</td>\n",
       "      <td>inf</td>\n",
       "    </tr>\n",
       "    <tr>\n",
       "      <th>19</th>\n",
       "      <td>northeast</td>\n",
       "      <td>inf</td>\n",
       "    </tr>\n",
       "    <tr>\n",
       "      <th>20</th>\n",
       "      <td>northwest</td>\n",
       "      <td>inf</td>\n",
       "    </tr>\n",
       "    <tr>\n",
       "      <th>21</th>\n",
       "      <td>northwest</td>\n",
       "      <td>inf</td>\n",
       "    </tr>\n",
       "    <tr>\n",
       "      <th>22</th>\n",
       "      <td>southeast</td>\n",
       "      <td>inf</td>\n",
       "    </tr>\n",
       "    <tr>\n",
       "      <th>23</th>\n",
       "      <td>southeast</td>\n",
       "      <td>inf</td>\n",
       "    </tr>\n",
       "    <tr>\n",
       "      <th>24</th>\n",
       "      <td>southwest</td>\n",
       "      <td>inf</td>\n",
       "    </tr>\n",
       "    <tr>\n",
       "      <th>25</th>\n",
       "      <td>southwest</td>\n",
       "      <td>inf</td>\n",
       "    </tr>\n",
       "  </tbody>\n",
       "</table>\n",
       "</div>"
      ],
      "text/plain": [
       "                            feature       VIF\n",
       "0                               age  2.185868\n",
       "1                               sex       NaN\n",
       "2                               bmi  1.182047\n",
       "3                          children  1.057813\n",
       "4                            smoker  2.458853\n",
       "5                      Claim_Amount  1.040968\n",
       "6                past_consultations  1.069143\n",
       "7              Hospital_expenditure  1.181636\n",
       "8   NUmber_of_past_hospitalizations  0.000000\n",
       "9                      Anual_Salary  2.678595\n",
       "10                        northeast       inf\n",
       "11                        northeast       inf\n",
       "12                        northwest       inf\n",
       "13                        northwest       inf\n",
       "14                        southeast       inf\n",
       "15                        southeast       inf\n",
       "16                        southwest       inf\n",
       "17                        southwest       inf\n",
       "18                        northeast       inf\n",
       "19                        northeast       inf\n",
       "20                        northwest       inf\n",
       "21                        northwest       inf\n",
       "22                        southeast       inf\n",
       "23                        southeast       inf\n",
       "24                        southwest       inf\n",
       "25                        southwest       inf"
      ]
     },
     "execution_count": 91,
     "metadata": {},
     "output_type": "execute_result"
    }
   ],
   "source": [
    "from statsmodels.stats.outliers_influence import variance_inflation_factor \n",
    "col_list = []\n",
    "for col in df.columns:\n",
    "    if  (col != 'charges'):\n",
    "        col_list.append(col)\n",
    "    \n",
    "X = df[col_list]\n",
    "vif_data = pd.DataFrame() \n",
    "vif_data[\"feature\"] = X.columns \n",
    "vif_data[\"VIF\"] = [variance_inflation_factor(X.values, i) for i in range(len(X.columns))]  \n",
    "vif_data\n"
   ]
  },
  {
   "cell_type": "code",
   "execution_count": 92,
   "id": "ec6b7b61",
   "metadata": {},
   "outputs": [],
   "source": [
    "#Defining independent and dependent features\n",
    "x=df.drop([\"charges\"],axis=1)\n",
    "y=df[\"charges\"]\n"
   ]
  },
  {
   "cell_type": "code",
   "execution_count": 93,
   "id": "1c287478",
   "metadata": {},
   "outputs": [],
   "source": [
    "#splitting dataset into train and test sets\n",
    "from sklearn.model_selection import train_test_split\n",
    "x_train, x_test, y_train, y_test = train_test_split(x,y, train_size=0.80, random_state= 30)"
   ]
  },
  {
   "cell_type": "markdown",
   "id": "5ce3056f",
   "metadata": {},
   "source": [
    "# standardization as all features are not normally distributed\n"
   ]
  },
  {
   "cell_type": "code",
   "execution_count": 101,
   "id": "e83ff1b0",
   "metadata": {},
   "outputs": [],
   "source": [
    "from sklearn.preprocessing import StandardScaler\n",
    "\n",
    "sc = StandardScaler()\n",
    "x_train = sc.fit_transform(x_train)\n",
    "x_test = sc.transform(x_test)"
   ]
  },
  {
   "cell_type": "markdown",
   "id": "681827c2",
   "metadata": {},
   "source": [
    "# Training the model"
   ]
  },
  {
   "cell_type": "code",
   "execution_count": 102,
   "id": "335f21ad",
   "metadata": {},
   "outputs": [
    {
     "data": {
      "text/plain": [
       "LinearRegression()"
      ]
     },
     "execution_count": 102,
     "metadata": {},
     "output_type": "execute_result"
    }
   ],
   "source": [
    "from sklearn.linear_model import LinearRegression#importing Linear Regression Model\n",
    "\n",
    "le = LinearRegression()\n",
    "le.fit(x_train,y_train)#training the model"
   ]
  },
  {
   "cell_type": "code",
   "execution_count": 103,
   "id": "d8dcfe80",
   "metadata": {},
   "outputs": [
    {
     "data": {
      "text/plain": [
       "array([11062.35077346,  7429.35077346, 11262.35077346,  7437.35077346,\n",
       "        3310.35077346, 15483.35077346,  4925.35077346,  4475.35077346,\n",
       "        4371.35077346, 10141.35077346, 17189.35077346, 12643.35077346,\n",
       "        5459.35077346,  2603.35077346, 15402.35077346,  4036.35077346,\n",
       "        9386.35077346,  8974.35077346, 10203.35077346,  4590.35077346,\n",
       "        4011.35077346,  6357.35077346,  3805.35077346,  4188.35077346,\n",
       "        9507.35077346, 10618.35077346,  4774.35077346,  6493.35077346,\n",
       "       13582.35077346, 16899.35077346,  4544.35077346, 10784.35077346,\n",
       "        7538.35077346,  7518.35077346, 11754.35077346,  4588.35077346,\n",
       "       10237.35077346,  5270.35077346, 13682.35077346,  8453.35077346,\n",
       "       13251.35077346, 14309.35077346,  8883.35077346, 11309.35077346,\n",
       "        9045.35077346,  8117.35077346,  9939.35077346, 16029.35077346,\n",
       "        9206.35077346, 10228.35077346,  7846.35077346, 14260.35077346,\n",
       "        8496.35077346,  4675.35077346,  6997.35077346, 12643.35077346,\n",
       "       10301.35077346,  8156.35077346, 13901.35077346, 12318.35077346,\n",
       "        8556.35077346,  9029.35077346,  8419.35077346,  9221.35077346,\n",
       "       10924.35077346, 10211.35077346,  5556.35077346,  5709.35077346,\n",
       "        6614.35077346,  7531.35077346,  9084.35077346,  5084.35077346,\n",
       "        6454.35077346, 13765.35077346,  4420.35077346,  4574.35077346,\n",
       "        9051.35077346,  9098.35077346,  8114.35077346,  9045.35077346,\n",
       "        6742.35077346,  3566.35077346,  8976.35077346,  3509.35077346,\n",
       "        3742.35077346,  9434.35077346,  4988.35077346, 10318.35077346,\n",
       "       10698.35077346,  8682.35077346, 11750.35077346,  9766.35077346,\n",
       "        7787.35077346,  9363.35077346,  4988.35077346,  7909.35077346,\n",
       "        4221.35077346, 12582.35077346,  9387.35077346, 12595.35077346,\n",
       "       12637.35077346,  4323.35077346,  9508.35077346, 11230.35077346,\n",
       "        1910.35077346, 12101.35077346,  5019.35077346, 11332.35077346,\n",
       "        5485.35077346,  6619.35077346,  5510.35077346, 18357.35077346,\n",
       "        5893.35077346, 10731.35077346, 15980.35077346, 16166.35077346,\n",
       "        7002.35077346,  6821.35077346,  8430.35077346, 11165.35077346,\n",
       "       11318.35077346,  6651.35077346, 12776.35077346, 12043.35077346,\n",
       "        4642.35077346,  7532.35077346,  4147.35077346, 10036.35077346,\n",
       "        6459.35077346,  3730.35077346,  5179.35077346,  9157.35077346,\n",
       "        4493.35077346, 10709.35077346, 15059.35077346,  8670.35077346,\n",
       "        7024.35077346, 16277.35077346, 10494.35077346,  3821.35077346,\n",
       "        6580.35077346, 11565.35077346, 11011.35077346,  7290.35077346,\n",
       "       12820.35077346,  5508.35077346, 13376.35077346, 11949.35077346,\n",
       "        7667.35077346,  6573.35077346,  4261.35077346, 12050.35077346,\n",
       "        8181.35077346,  6459.35077346,  7366.35077346, 15500.35077346,\n",
       "        8373.35077346,  8100.35077346,  4486.35077346,  9045.35077346,\n",
       "       10908.35077346,  8372.35077346, 16027.35077346, 12868.35077346,\n",
       "        8603.35077346,  8302.35077346,  6558.35077346,  4229.35077346,\n",
       "        3781.35077346,  4330.35077346, 10803.35077346, 10469.35077346,\n",
       "       17347.35077346,  5948.35077346, 10436.35077346,  3550.35077346])"
      ]
     },
     "execution_count": 103,
     "metadata": {},
     "output_type": "execute_result"
    }
   ],
   "source": [
    "#getting y_predicted value\n",
    "y_pred=le.predict(x_test)\n",
    "y_pred"
   ]
  },
  {
   "cell_type": "code",
   "execution_count": 104,
   "id": "c22bc7f1",
   "metadata": {},
   "outputs": [
    {
     "data": {
      "text/plain": [
       "0.9061672155312046"
      ]
     },
     "execution_count": 104,
     "metadata": {},
     "output_type": "execute_result"
    }
   ],
   "source": [
    "#Goodness of fit given by R2_score in Regression model\n",
    "from sklearn.metrics import r2_score\n",
    "r2_score(y_test,y_pred)"
   ]
  },
  {
   "cell_type": "code",
   "execution_count": null,
   "id": "c6d29e7a",
   "metadata": {},
   "outputs": [],
   "source": []
  }
 ],
 "metadata": {
  "kernelspec": {
   "display_name": "Python 3 (ipykernel)",
   "language": "python",
   "name": "python3"
  },
  "language_info": {
   "codemirror_mode": {
    "name": "ipython",
    "version": 3
   },
   "file_extension": ".py",
   "mimetype": "text/x-python",
   "name": "python",
   "nbconvert_exporter": "python",
   "pygments_lexer": "ipython3",
   "version": "3.9.12"
  }
 },
 "nbformat": 4,
 "nbformat_minor": 5
}
